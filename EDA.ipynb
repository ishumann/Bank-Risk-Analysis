{
 "cells": [
  {
   "cell_type": "code",
   "execution_count": null,
   "id": "07f584b0",
   "metadata": {},
   "outputs": [],
   "source": [
    "import mysql.connector\n",
    "\n",
    "# Connect to server\n",
    "cnx = mysql.connector.connect(\n",
    "    host=\"127.0.0.1\", port=3306, user=\"root\", password=\"@Ishumana2604\"\n",
    ")\n"
   ]
  },
  {
   "cell_type": "code",
   "execution_count": null,
   "id": "151bbf32",
   "metadata": {},
   "outputs": [],
   "source": [
    "import pandas as pd\n",
    "import matplotlib.pyplot as plt\n"
   ]
  },
  {
   "cell_type": "code",
   "execution_count": null,
   "id": "a5dda202",
   "metadata": {},
   "outputs": [],
   "source": [
    "query = \"SELECT * FROM banking_case.customer\"\n"
   ]
  },
  {
   "cell_type": "code",
   "execution_count": null,
   "id": "a1f81b07",
   "metadata": {},
   "outputs": [
    {
     "name": "stderr",
     "output_type": "stream",
     "text": [
      "C:\\Users\\X1 Yoga\\AppData\\Local\\Temp\\ipykernel_6676\\1600954950.py:1: UserWarning: pandas only supports SQLAlchemy connectable (engine/connection) or database string URI or sqlite3 DBAPI2 connection. Other DBAPI2 objects are not tested. Please consider using SQLAlchemy.\n",
      "  df = pd.read_sql(query, cnx)\n"
     ]
    }
   ],
   "source": [
    "df = pd.read_sql(query, cnx)\n"
   ]
  },
  {
   "cell_type": "code",
   "execution_count": null,
   "id": "6f73e3e6",
   "metadata": {},
   "outputs": [],
   "source": [
    "cnx.close()\n"
   ]
  },
  {
   "cell_type": "code",
   "execution_count": null,
   "id": "8ff085ef",
   "metadata": {},
   "outputs": [
    {
     "data": {
      "application/vnd.microsoft.datawrangler.viewer.v0+json": {
       "columns": [
        {
         "name": "index",
         "rawType": "int64",
         "type": "integer"
        },
        {
         "name": "ï»¿Client ID",
         "rawType": "object",
         "type": "string"
        },
        {
         "name": "Name",
         "rawType": "object",
         "type": "string"
        },
        {
         "name": "Age",
         "rawType": "int64",
         "type": "integer"
        },
        {
         "name": "Location ID",
         "rawType": "int64",
         "type": "integer"
        },
        {
         "name": "Joined Bank",
         "rawType": "object",
         "type": "string"
        },
        {
         "name": "Banking Contact",
         "rawType": "object",
         "type": "string"
        },
        {
         "name": "Nationality",
         "rawType": "object",
         "type": "string"
        },
        {
         "name": "Occupation",
         "rawType": "object",
         "type": "string"
        },
        {
         "name": "Fee Structure",
         "rawType": "object",
         "type": "string"
        },
        {
         "name": "Loyalty Classification",
         "rawType": "object",
         "type": "string"
        },
        {
         "name": "Estimated Income",
         "rawType": "float64",
         "type": "float"
        },
        {
         "name": "Superannuation Savings",
         "rawType": "float64",
         "type": "float"
        },
        {
         "name": "Amount of Credit Cards",
         "rawType": "int64",
         "type": "integer"
        },
        {
         "name": "Credit Card Balance",
         "rawType": "float64",
         "type": "float"
        },
        {
         "name": "Bank Loans",
         "rawType": "float64",
         "type": "float"
        },
        {
         "name": "Bank Deposits",
         "rawType": "float64",
         "type": "float"
        },
        {
         "name": "Checking Accounts",
         "rawType": "float64",
         "type": "float"
        },
        {
         "name": "Saving Accounts",
         "rawType": "float64",
         "type": "float"
        },
        {
         "name": "Foreign Currency Account",
         "rawType": "float64",
         "type": "float"
        },
        {
         "name": "Business Lending",
         "rawType": "float64",
         "type": "float"
        },
        {
         "name": "Properties Owned",
         "rawType": "int64",
         "type": "integer"
        },
        {
         "name": "Risk Weighting",
         "rawType": "int64",
         "type": "integer"
        },
        {
         "name": "BRId",
         "rawType": "int64",
         "type": "integer"
        },
        {
         "name": "GenderId",
         "rawType": "int64",
         "type": "integer"
        },
        {
         "name": "IAId",
         "rawType": "int64",
         "type": "integer"
        }
       ],
       "ref": "ec292841-a00e-42f2-81b5-92477f489bcd",
       "rows": [
        [
         "0",
         "IND81288",
         "Raymond Mills",
         "24",
         "34324",
         "06-05-2019",
         "Anthony Torres",
         "American",
         "Safety Technician IV",
         "High",
         "Jade",
         "75384.77",
         "17677.95",
         "1",
         "484.54",
         "776242.92",
         "1485828.64",
         "603617.88",
         "607332.46",
         "12249.96",
         "1134475.3",
         "1",
         "2",
         "1",
         "1",
         "1"
        ],
        [
         "1",
         "IND65833",
         "Julia Spencer",
         "23",
         "42205",
         "10-12-2001",
         "Jonathan Hawkins",
         "African",
         "Software Consultant",
         "High",
         "Jade",
         "289834.31",
         "17398.92",
         "1",
         "2256.88",
         "1270615.43",
         "641482.79",
         "229521.37",
         "344635.16",
         "61162.31",
         "2000526.1",
         "1",
         "3",
         "2",
         "1",
         "2"
        ],
        [
         "2",
         "IND47499",
         "Stephen Murray",
         "27",
         "7314",
         "25-01-2010",
         "Anthony Berry",
         "European",
         "Help Desk Operator",
         "High",
         "Gold",
         "169935.23",
         "42825.9",
         "2",
         "4568.74",
         "1052715.84",
         "1033401.59",
         "652674.69",
         "203054.35",
         "79071.78",
         "548137.58",
         "1",
         "3",
         "3",
         "2",
         "3"
        ],
        [
         "3",
         "IND72498",
         "Virginia Garza",
         "40",
         "34594",
         "28-03-2019",
         "Steve Diaz",
         "American",
         "Geologist II",
         "Mid",
         "Silver",
         "356808.11",
         "5473.15",
         "2",
         "4205.0",
         "121195.06",
         "1048157.49",
         "1048157.49",
         "234685.02",
         "57513.65",
         "1148402.29",
         "0",
         "4",
         "4",
         "1",
         "4"
        ],
        [
         "4",
         "IND60181",
         "Melissa Sanders",
         "46",
         "41269",
         "20-07-2012",
         "Shawn Long",
         "American",
         "Assistant Professor",
         "Mid",
         "Platinum",
         "130711.68",
         "48077.6",
         "1",
         "3779.49",
         "1048301.95",
         "487782.53",
         "446644.25",
         "128351.45",
         "30012.14",
         "1674412.12",
         "0",
         "3",
         "1",
         "2",
         "5"
        ],
        [
         "5",
         "IND78532",
         "Samuel Hudson",
         "23",
         "13204",
         "07-02-2019",
         "Douglas Tucker",
         "American",
         "Help Desk Technician",
         "High",
         "Silver",
         "118326.96",
         "6028.2",
         "2",
         "5148.56",
         "601902.5",
         "1307269.41",
         "745627.74",
         "238310.37",
         "15615.18",
         "1556031.06",
         "1",
         "2",
         "1",
         "1",
         "6"
        ],
        [
         "6",
         "IND95683",
         "Timothy Alexander",
         "46",
         "42910",
         "02-06-2002",
         "Douglas Tucker",
         "Asian",
         "Account Coordinator",
         "High",
         "Gold",
         "57336.47",
         "13929.16",
         "1",
         "959.9",
         "208909.69",
         "41200.18",
         "60588.5",
         "24639.33",
         "3045.78",
         "154111.62",
         "1",
         "1",
         "1",
         "2",
         "7"
        ],
        [
         "7",
         "IND40785",
         "Carl Martin",
         "78",
         "6127",
         "03-11-2000",
         "Steve Diaz",
         "European",
         "Automation Specialist II",
         "Mid",
         "Gold",
         "65125.8",
         "31077.8",
         "1",
         "4576.58",
         "1140704.8",
         "156983.13",
         "53889.73",
         "46813.78",
         "51979.19",
         "1171456.68",
         "0",
         "2",
         "2",
         "2",
         "8"
        ],
        [
         "8",
         "IND13570",
         "Philip Day",
         "67",
         "32656",
         "07-04-2015",
         "Bruce Butler",
         "Asian",
         "Software Test Engineer II",
         "High",
         "Silver",
         "87849.47",
         "9385.35",
         "1",
         "78.62",
         "803444.46",
         "1242347.22",
         "328334.62",
         "279528.12",
         "27125.28",
         "464560.28",
         "0",
         "1",
         "2",
         "2",
         "9"
        ],
        [
         "9",
         "IND53299",
         "Jason Sims",
         "51",
         "28340",
         "20-11-1995",
         "Joe Price",
         "European",
         "Geologist III",
         "Mid",
         "Silver",
         "65369.36",
         "27364.8",
         "3",
         "4836.86",
         "60027.9",
         "317246.67",
         "111532.03",
         "115869.39",
         "48043.52",
         "908583.94",
         "2",
         "1",
         "3",
         "1",
         "10"
        ],
        [
         "10",
         "IND76263",
         "Amy Martinez",
         "55",
         "40459",
         "18-10-2014",
         "Adam Hernandez",
         "European",
         "Administrative Officer",
         "High",
         "Jade",
         "74966.51",
         "16928.73",
         "1",
         "493.32",
         "214327.82",
         "37979.77",
         "19335.16",
         "52204.92",
         "10539.79",
         "353119.93",
         "3",
         "1",
         "3",
         "1",
         "11"
        ],
        [
         "11",
         "IND56452",
         "David Johnston",
         "73",
         "25563",
         "12-09-2005",
         "Chris Armstrong",
         "American",
         "Database Administrator II",
         "Mid",
         "Jade",
         "111449.06",
         "17480.19",
         "2",
         "392.59",
         "580468.51",
         "749007.94",
         "204991.65",
         "513425.24",
         "22904.91",
         "294397.85",
         "0",
         "2",
         "3",
         "2",
         "12"
        ],
        [
         "12",
         "IND28766",
         "Wayne Foster",
         "45",
         "35687",
         "17-03-2018",
         "Joshua Ryan",
         "African",
         "Staff Scientist",
         "Low",
         "Silver",
         "115637.19",
         "10848.6",
         "1",
         "5055.31",
         "815250.64",
         "616330.93",
         "208277.35",
         "138738.22",
         "6336.65",
         "972455.46",
         "3",
         "1",
         "3",
         "2",
         "13"
        ],
        [
         "13",
         "IND17897",
         "Carlos Moore",
         "44",
         "19554",
         "02-01-1996",
         "Paul Larson",
         "American",
         "Programmer I",
         "High",
         "Jade",
         "124434.78",
         "26146.0",
         "2",
         "5211.37",
         "984792.5",
         "802862.97",
         "263714.11",
         "174051.32",
         "68855.49",
         "835554.83",
         "0",
         "2",
         "3",
         "2",
         "14"
        ],
        [
         "14",
         "IND86325",
         "Lisa Johnston",
         "36",
         "33368",
         "05-06-2020",
         "Mark Montgomery",
         "Asian",
         "Software Test Engineer I",
         "High",
         "Platinum",
         "260795.34",
         "11584.68",
         "1",
         "2866.34",
         "310876.62",
         "116399.86",
         "69072.45",
         "67077.02",
         "48101.13",
         "1136169.3",
         "1",
         "2",
         "3",
         "1",
         "15"
        ],
        [
         "15",
         "IND74197",
         "Andrew Mills",
         "55",
         "27913",
         "06-01-2021",
         "Shawn Wallace",
         "European",
         "Actuary",
         "Mid",
         "Silver",
         "78892.52",
         "32369.71",
         "1",
         "4882.13",
         "1510860.64",
         "317542.21",
         "134344.78",
         "71284.16",
         "20708.55",
         "2283081.57",
         "3",
         "2",
         "3",
         "1",
         "16"
        ],
        [
         "16",
         "IND28503",
         "Jack Coleman",
         "61",
         "9505",
         "22-06-2014",
         "Ernest Rivera",
         "Asian",
         "Staff Accountant II",
         "High",
         "Silver",
         "257120.22",
         "16263.99",
         "1",
         "8614.06",
         "436988.44",
         "2446251.57",
         "1273391.23",
         "253337.83",
         "80698.26",
         "1128082.14",
         "1",
         "3",
         "4",
         "2",
         "17"
        ],
        [
         "17",
         "IND56539",
         "Aaron Day",
         "56",
         "36232",
         "19-01-2020",
         "Gregory Simmons",
         "Asian",
         "Assistant Media Planner",
         "Low",
         "Jade",
         "145704.55",
         "3078.27",
         "1",
         "1895.06",
         "384153.37",
         "55118.87",
         "25590.9",
         "64095.37",
         "10492.37",
         "199617.82",
         "3",
         "1",
         "4",
         "2",
         "18"
        ],
        [
         "18",
         "IND53604",
         "Kevin Weaver",
         "43",
         "6299",
         "31-03-2019",
         "Frank Brown",
         "American",
         "Staff Accountant I",
         "Low",
         "Jade",
         "34404.16",
         "19668.4",
         "2",
         "5384.7",
         "1102836.16",
         "204450.83",
         "89694.56",
         "35877.82",
         "22452.06",
         "1115542.44",
         "3",
         "1",
         "3",
         "2",
         "19"
        ],
        [
         "19",
         "IND32064",
         "Mary Fox",
         "63",
         "7694",
         "09-03-2009",
         "Adam Hernandez",
         "Australian",
         "Compensation Analyst",
         "Mid",
         "Jade",
         "129060.88",
         "17283.63",
         "1",
         "395.58",
         "1000409.32",
         "966281.34",
         "472404.21",
         "396819.54",
         "37271.05",
         "1631986.9",
         "2",
         "4",
         "1",
         "2",
         "20"
        ],
        [
         "20",
         "IND72934",
         "Carlos Little",
         "41",
         "38321",
         "03-04-2020",
         "Jonathan Hawkins",
         "American",
         "Geologist I",
         "Low",
         "Jade",
         "129981.31",
         "10242.84",
         "2",
         "2383.86",
         "373846.69",
         "38406.8",
         "11024.17",
         "25028.43",
         "24422.1",
         "441603.53",
         "2",
         "1",
         "2",
         "1",
         "21"
        ],
        [
         "21",
         "IND16101",
         "Roger Boyd",
         "58",
         "12772",
         "31-12-2015",
         "Adam Hernandez",
         "European",
         "Web Designer II",
         "High",
         "Jade",
         "123545.42",
         "2984.52",
         "1",
         "2789.44",
         "1400623.12",
         "547459.74",
         "324420.58",
         "42985.73",
         "31481.78",
         "1255331.52",
         "3",
         "2",
         "3",
         "2",
         "22"
        ],
        [
         "22",
         "IND93121",
         "Aaron Marshall",
         "26",
         "28661",
         "14-01-2013",
         "Ernest Rivera",
         "American",
         "Media Manager IV",
         "Mid",
         "Jade",
         "308182.93",
         "64332.66",
         "1",
         "4458.61",
         "649331.84",
         "103871.63",
         "77431.58",
         "133711.12",
         "12045.07",
         "176113.98",
         "0",
         "5",
         "4",
         "2",
         "1"
        ],
        [
         "23",
         "IND93310",
         "Cheryl Stewart",
         "21",
         "8767",
         "23-05-2021",
         "Victor Martinez",
         "European",
         "Accounting Assistant II",
         "High",
         "Gold",
         "122579.41",
         "10312.54",
         "1",
         "4959.36",
         "963017.56",
         "1115098.09",
         "368467.2",
         "721419.98",
         "11782.22",
         "861771.26",
         "1",
         "2",
         "1",
         "1",
         "2"
        ],
        [
         "24",
         "IND71301",
         "Anne Nguyen",
         "41",
         "14954",
         "19-09-2021",
         "Joshua Ryan",
         "American",
         "Programmer II",
         "High",
         "Jade",
         "30942.07",
         "4469.98",
         "1",
         "3338.64",
         "276532.77",
         "132960.52",
         "108193.36",
         "22381.69",
         "23955.9",
         "622223.7",
         "0",
         "1",
         "1",
         "2",
         "3"
        ],
        [
         "25",
         "IND21279",
         "Christopher Evans",
         "36",
         "24058",
         "20-03-2013",
         "Adam Hernandez",
         "European",
         "Administrative Assistant IV",
         "High",
         "Jade",
         "50651.56",
         "8097.25",
         "3",
         "509.21",
         "278071.37",
         "302540.6",
         "94771.75",
         "153748.94",
         "16732.39",
         "430027.77",
         "3",
         "1",
         "1",
         "2",
         "4"
        ],
        [
         "26",
         "IND98618",
         "Maria Clark",
         "34",
         "8623",
         "29-01-2014",
         "Joe Hanson",
         "Asian",
         "Help Desk Operator",
         "High",
         "Silver",
         "502309.08",
         "69381.0",
         "2",
         "10639.31",
         "1469913.23",
         "1724818.3",
         "507299.5",
         "1168238.27",
         "75592.25",
         "2143826.06",
         "0",
         "4",
         "2",
         "1",
         "8"
        ],
        [
         "27",
         "IND35589",
         "Jimmy Simpson",
         "52",
         "38270",
         "08-01-2018",
         "George Lewis",
         "European",
         "Geological Engineer",
         "High",
         "Jade",
         "87019.73",
         "11316.5",
         "2",
         "1253.68",
         "273944.56",
         "192711.78",
         "54150.42",
         "73580.86",
         "21530.91",
         "772573.6",
         "1",
         "1",
         "2",
         "2",
         "9"
        ],
        [
         "28",
         "IND40198",
         "Louise Sanders",
         "78",
         "29119",
         "24-05-2005",
         "Shawn Cook",
         "European",
         "Junior Executive",
         "Low",
         "Jade",
         "246615.84",
         "35332.0",
         "3",
         "5835.26",
         "622181.88",
         "765153.59",
         "552072.84",
         "308192.24",
         "29778.58",
         "1078308.29",
         "0",
         "3",
         "3",
         "2",
         "10"
        ],
        [
         "29",
         "IND49616",
         "Angela Alvarez",
         "34",
         "31338",
         "22-08-2016",
         "Patrick Graham",
         "Australian",
         "Biostatistician IV",
         "Low",
         "Jade",
         "130023.36",
         "15464.38",
         "1",
         "219.19",
         "366887.14",
         "447804.62",
         "221138.08",
         "271999.84",
         "31010.83",
         "787555.56",
         "0",
         "1",
         "3",
         "1",
         "11"
        ],
        [
         "30",
         "IND55475",
         "Henry Grant",
         "75",
         "21778",
         "06-04-2013",
         "Anthony Simpson",
         "European",
         "Software Test Engineer I",
         "Low",
         "Jade",
         "82703.81",
         "8635.67",
         "2",
         "8521.8",
         "842201.38",
         "2098819.5",
         "990288.08",
         "424345.83",
         "32253.44",
         "272858.21",
         "3",
         "4",
         "3",
         "1",
         "12"
        ],
        [
         "31",
         "IND61272",
         "Larry Foster",
         "47",
         "34773",
         "10-12-2020",
         "Raymond Alexander",
         "European",
         "Internal Auditor",
         "High",
         "Gold",
         "137256.09",
         "18322.92",
         "2",
         "1050.56",
         "1035297.66",
         "976553.21",
         "180073.64",
         "471515.9",
         "34284.83",
         "469532.28",
         "0",
         "1",
         "3",
         "2",
         "13"
        ],
        [
         "32",
         "IND33884",
         "Carol GoPKRalez",
         "34",
         "29287",
         "29-05-2021",
         "Carl Nguyen",
         "European",
         "Chemical Engineer",
         "High",
         "Platinum",
         "224640.75",
         "57090.72",
         "3",
         "3550.74",
         "1091959.45",
         "828226.52",
         "532945.76",
         "127330.83",
         "61733.24",
         "454281.87",
         "1",
         "3",
         "3",
         "1",
         "14"
        ],
        [
         "33",
         "IND53121",
         "Timothy Stanley",
         "79",
         "29278",
         "15-02-2021",
         "Joshua Little",
         "American",
         "Accountant III",
         "High",
         "Jade",
         "147292.91",
         "24297.42",
         "1",
         "4097.62",
         "105266.65",
         "187826.4",
         "35438.94",
         "70287.24",
         "7805.91",
         "1112746.46",
         "3",
         "1",
         "3",
         "2",
         "15"
        ],
        [
         "34",
         "IND25680",
         "Billy Wilson",
         "73",
         "99",
         "25-09-2017",
         "Dennis Morris",
         "European",
         "Registered Nurse",
         "High",
         "Platinum",
         "263248.97",
         "47651.76",
         "2",
         "7069.16",
         "693956.23",
         "1420246.29",
         "554930.67",
         "235234.17",
         "1624.19",
         "2518271.85",
         "3",
         "3",
         "3",
         "2",
         "1"
        ],
        [
         "35",
         "IND55454",
         "Kathleen Riley",
         "80",
         "20746",
         "28-11-2017",
         "Benjamin Kim",
         "European",
         "Cost Accountant",
         "Low",
         "Jade",
         "193690.93",
         "11655.54",
         "2",
         "3610.42",
         "50809.39",
         "342138.31",
         "255463.27",
         "174627.4",
         "4469.13",
         "626121.9",
         "2",
         "2",
         "4",
         "1",
         "2"
        ],
        [
         "36",
         "IND96454",
         "Bobby Jenkins",
         "73",
         "15809",
         "05-03-2014",
         "Nicholas Cunningham",
         "European",
         "Developer IV",
         "Low",
         "Gold",
         "91243.05",
         "37750.72",
         "3",
         "6660.85",
         "122158.61",
         "2137439.34",
         "639548.78",
         "1273038.67",
         "12504.17",
         "411062.27",
         "2",
         "3",
         "4",
         "2",
         "3"
        ],
        [
         "37",
         "IND14292",
         "Arthur Burns",
         "51",
         "30376",
         "13-12-2005",
         "Shawn Long",
         "Asian",
         "Accounting Assistant II",
         "Low",
         "Platinum",
         "162807.39",
         "70394.4",
         "1",
         "811.96",
         "709300.71",
         "1667444.17",
         "517118.76",
         "274495.08",
         "2337.77",
         "270162.94",
         "2",
         "4",
         "3",
         "1",
         "4"
        ],
        [
         "38",
         "IND67206",
         "Lawrence Richardson",
         "49",
         "38915",
         "13-01-2012",
         "Anthony Simpson",
         "European",
         "Junior Executive",
         "Mid",
         "Gold",
         "193729.94",
         "44815.46",
         "2",
         "2062.15",
         "66053.91",
         "684295.05",
         "337704.05",
         "534461.09",
         "47911.89",
         "992911.86",
         "2",
         "3",
         "1",
         "2",
         "5"
        ],
        [
         "39",
         "IND90177",
         "Julia Roberts",
         "81",
         "5659",
         "08-11-2006",
         "Victor Martinez",
         "European",
         "Software Engineer I",
         "Mid",
         "Platinum",
         "131497.09",
         "15962.66",
         "1",
         "3127.86",
         "57219.9",
         "725666.6",
         "233012.21",
         "506302.25",
         "21798.32",
         "498564.84",
         "0",
         "1",
         "2",
         "2",
         "6"
        ],
        [
         "40",
         "IND60970",
         "Philip Fisher",
         "27",
         "28045",
         "23-12-2001",
         "Carl Nguyen",
         "Asian",
         "Accountant I",
         "High",
         "Gold",
         "319205.91",
         "49416.0",
         "1",
         "9.55",
         "0.0",
         "309361.94",
         "360077.01",
         "135307.81",
         "17710.52",
         "945483.98",
         "3",
         "4",
         "3",
         "1",
         "7"
        ],
        [
         "41",
         "IND24003",
         "Jeffrey Taylor",
         "56",
         "16845",
         "28-02-2020",
         "Anthony Simpson",
         "European",
         "Automation Specialist IV",
         "Mid",
         "Silver",
         "44088.51",
         "32418.88",
         "2",
         "2795.52",
         "1485747.33",
         "396706.92",
         "153723.93",
         "55588.56",
         "40504.26",
         "717420.29",
         "1",
         "2",
         "4",
         "2",
         "8"
        ],
        [
         "42",
         "IND87800",
         "Mark Mccoy",
         "33",
         "20816",
         "24-01-2008",
         "Patrick Graham",
         "European",
         "Biostatistician I",
         "High",
         "Silver",
         "420683.66",
         "24472.55",
         "1",
         "1011.56",
         "820479.9",
         "1818216.16",
         "683649.27",
         "886562.2",
         "14157.73",
         "1549847.59",
         "1",
         "3",
         "1",
         "1",
         "9"
        ],
        [
         "43",
         "IND75987",
         "Timothy Cook",
         "79",
         "30025",
         "11-12-2006",
         "Chris Armstrong",
         "European",
         "Nurse",
         "Low",
         "Jade",
         "32062.52",
         "19653.48",
         "1",
         "1612.82",
         "231528.63",
         "140280.05",
         "170536.53",
         "109748.51",
         "5492.47",
         "352732.73",
         "0",
         "1",
         "1",
         "2",
         "10"
        ],
        [
         "44",
         "IND70083",
         "Larry Green",
         "56",
         "12219",
         "28-08-2016",
         "Benjamin Kim",
         "European",
         "Human Resources Manager",
         "Mid",
         "Jade",
         "92487.65",
         "23690.51",
         "1",
         "2199.18",
         "560657.25",
         "208470.98",
         "49811.65",
         "134675.95",
         "5026.45",
         "407139.68",
         "2",
         "1",
         "1",
         "1",
         "11"
        ],
        [
         "45",
         "IND31444",
         "Edward Gordon",
         "55",
         "33457",
         "31-01-2020",
         "Victor Martinez",
         "European",
         "Analyst Programmer",
         "Mid",
         "Gold",
         "130572.51",
         "49441.92",
         "1",
         "3225.23",
         "120782.42",
         "370436.77",
         "206472.95",
         "264528.29",
         "17000.19",
         "854418.25",
         "0",
         "2",
         "2",
         "1",
         "12"
        ],
        [
         "46",
         "IND70450",
         "Edward Evans",
         "77",
         "31049",
         "21-07-2021",
         "Gregory Simmons",
         "Australian",
         "Database Administrator III",
         "High",
         "Gold",
         "54753.75",
         "5311.0",
         "1",
         "1408.34",
         "80386.11",
         "11363.75",
         "14158.11",
         "4470.98",
         "8745.72",
         "390608.62",
         "1",
         "1",
         "2",
         "2",
         "13"
        ],
        [
         "47",
         "IND47520",
         "Joseph Morrison",
         "49",
         "3444",
         "16-03-2020",
         "George Lewis",
         "Australian",
         "Web Designer III",
         "Mid",
         "Silver",
         "180214.79",
         "9226.35",
         "2",
         "587.71",
         "791256.59",
         "1988033.0",
         "460993.16",
         "783688.37",
         "36763.45",
         "1991318.1",
         "2",
         "2",
         "3",
         "2",
         "14"
        ],
        [
         "48",
         "IND69076",
         "Kathy Wheeler",
         "67",
         "3711",
         "12-11-1996",
         "Anthony Torres",
         "European",
         "Senior Editor",
         "High",
         "Jade",
         "52826.78",
         "26160.46",
         "2",
         "2617.61",
         "385480.43",
         "295345.61",
         "277114.4",
         "86634.71",
         "20544.7",
         "71268.33",
         "2",
         "1",
         "3",
         "2",
         "15"
        ],
        [
         "49",
         "IND53190",
         "Amy Sims",
         "66",
         "30998",
         "02-01-2007",
         "Joshua Bennett",
         "European",
         "Health Coach III",
         "Low",
         "Gold",
         "43622.88",
         "19416.4",
         "1",
         "229.9",
         "39047.14",
         "192729.77",
         "87604.44",
         "223391.32",
         "16286.6",
         "237137.34",
         "0",
         "1",
         "3",
         "1",
         "16"
        ]
       ],
       "shape": {
        "columns": 25,
        "rows": 3000
       }
      },
      "text/html": [
       "<div>\n",
       "<style scoped>\n",
       "    .dataframe tbody tr th:only-of-type {\n",
       "        vertical-align: middle;\n",
       "    }\n",
       "\n",
       "    .dataframe tbody tr th {\n",
       "        vertical-align: top;\n",
       "    }\n",
       "\n",
       "    .dataframe thead th {\n",
       "        text-align: right;\n",
       "    }\n",
       "</style>\n",
       "<table border=\"1\" class=\"dataframe\">\n",
       "  <thead>\n",
       "    <tr style=\"text-align: right;\">\n",
       "      <th></th>\n",
       "      <th>ï»¿Client ID</th>\n",
       "      <th>Name</th>\n",
       "      <th>Age</th>\n",
       "      <th>Location ID</th>\n",
       "      <th>Joined Bank</th>\n",
       "      <th>Banking Contact</th>\n",
       "      <th>Nationality</th>\n",
       "      <th>Occupation</th>\n",
       "      <th>Fee Structure</th>\n",
       "      <th>Loyalty Classification</th>\n",
       "      <th>...</th>\n",
       "      <th>Bank Deposits</th>\n",
       "      <th>Checking Accounts</th>\n",
       "      <th>Saving Accounts</th>\n",
       "      <th>Foreign Currency Account</th>\n",
       "      <th>Business Lending</th>\n",
       "      <th>Properties Owned</th>\n",
       "      <th>Risk Weighting</th>\n",
       "      <th>BRId</th>\n",
       "      <th>GenderId</th>\n",
       "      <th>IAId</th>\n",
       "    </tr>\n",
       "  </thead>\n",
       "  <tbody>\n",
       "    <tr>\n",
       "      <th>0</th>\n",
       "      <td>IND81288</td>\n",
       "      <td>Raymond Mills</td>\n",
       "      <td>24</td>\n",
       "      <td>34324</td>\n",
       "      <td>06-05-2019</td>\n",
       "      <td>Anthony Torres</td>\n",
       "      <td>American</td>\n",
       "      <td>Safety Technician IV</td>\n",
       "      <td>High</td>\n",
       "      <td>Jade</td>\n",
       "      <td>...</td>\n",
       "      <td>1485828.64</td>\n",
       "      <td>603617.88</td>\n",
       "      <td>607332.46</td>\n",
       "      <td>12249.96</td>\n",
       "      <td>1134475.30</td>\n",
       "      <td>1</td>\n",
       "      <td>2</td>\n",
       "      <td>1</td>\n",
       "      <td>1</td>\n",
       "      <td>1</td>\n",
       "    </tr>\n",
       "    <tr>\n",
       "      <th>1</th>\n",
       "      <td>IND65833</td>\n",
       "      <td>Julia Spencer</td>\n",
       "      <td>23</td>\n",
       "      <td>42205</td>\n",
       "      <td>10-12-2001</td>\n",
       "      <td>Jonathan Hawkins</td>\n",
       "      <td>African</td>\n",
       "      <td>Software Consultant</td>\n",
       "      <td>High</td>\n",
       "      <td>Jade</td>\n",
       "      <td>...</td>\n",
       "      <td>641482.79</td>\n",
       "      <td>229521.37</td>\n",
       "      <td>344635.16</td>\n",
       "      <td>61162.31</td>\n",
       "      <td>2000526.10</td>\n",
       "      <td>1</td>\n",
       "      <td>3</td>\n",
       "      <td>2</td>\n",
       "      <td>1</td>\n",
       "      <td>2</td>\n",
       "    </tr>\n",
       "    <tr>\n",
       "      <th>2</th>\n",
       "      <td>IND47499</td>\n",
       "      <td>Stephen Murray</td>\n",
       "      <td>27</td>\n",
       "      <td>7314</td>\n",
       "      <td>25-01-2010</td>\n",
       "      <td>Anthony Berry</td>\n",
       "      <td>European</td>\n",
       "      <td>Help Desk Operator</td>\n",
       "      <td>High</td>\n",
       "      <td>Gold</td>\n",
       "      <td>...</td>\n",
       "      <td>1033401.59</td>\n",
       "      <td>652674.69</td>\n",
       "      <td>203054.35</td>\n",
       "      <td>79071.78</td>\n",
       "      <td>548137.58</td>\n",
       "      <td>1</td>\n",
       "      <td>3</td>\n",
       "      <td>3</td>\n",
       "      <td>2</td>\n",
       "      <td>3</td>\n",
       "    </tr>\n",
       "    <tr>\n",
       "      <th>3</th>\n",
       "      <td>IND72498</td>\n",
       "      <td>Virginia Garza</td>\n",
       "      <td>40</td>\n",
       "      <td>34594</td>\n",
       "      <td>28-03-2019</td>\n",
       "      <td>Steve Diaz</td>\n",
       "      <td>American</td>\n",
       "      <td>Geologist II</td>\n",
       "      <td>Mid</td>\n",
       "      <td>Silver</td>\n",
       "      <td>...</td>\n",
       "      <td>1048157.49</td>\n",
       "      <td>1048157.49</td>\n",
       "      <td>234685.02</td>\n",
       "      <td>57513.65</td>\n",
       "      <td>1148402.29</td>\n",
       "      <td>0</td>\n",
       "      <td>4</td>\n",
       "      <td>4</td>\n",
       "      <td>1</td>\n",
       "      <td>4</td>\n",
       "    </tr>\n",
       "    <tr>\n",
       "      <th>4</th>\n",
       "      <td>IND60181</td>\n",
       "      <td>Melissa Sanders</td>\n",
       "      <td>46</td>\n",
       "      <td>41269</td>\n",
       "      <td>20-07-2012</td>\n",
       "      <td>Shawn Long</td>\n",
       "      <td>American</td>\n",
       "      <td>Assistant Professor</td>\n",
       "      <td>Mid</td>\n",
       "      <td>Platinum</td>\n",
       "      <td>...</td>\n",
       "      <td>487782.53</td>\n",
       "      <td>446644.25</td>\n",
       "      <td>128351.45</td>\n",
       "      <td>30012.14</td>\n",
       "      <td>1674412.12</td>\n",
       "      <td>0</td>\n",
       "      <td>3</td>\n",
       "      <td>1</td>\n",
       "      <td>2</td>\n",
       "      <td>5</td>\n",
       "    </tr>\n",
       "    <tr>\n",
       "      <th>...</th>\n",
       "      <td>...</td>\n",
       "      <td>...</td>\n",
       "      <td>...</td>\n",
       "      <td>...</td>\n",
       "      <td>...</td>\n",
       "      <td>...</td>\n",
       "      <td>...</td>\n",
       "      <td>...</td>\n",
       "      <td>...</td>\n",
       "      <td>...</td>\n",
       "      <td>...</td>\n",
       "      <td>...</td>\n",
       "      <td>...</td>\n",
       "      <td>...</td>\n",
       "      <td>...</td>\n",
       "      <td>...</td>\n",
       "      <td>...</td>\n",
       "      <td>...</td>\n",
       "      <td>...</td>\n",
       "      <td>...</td>\n",
       "      <td>...</td>\n",
       "    </tr>\n",
       "    <tr>\n",
       "      <th>2995</th>\n",
       "      <td>IND66827</td>\n",
       "      <td>Earl Hall</td>\n",
       "      <td>82</td>\n",
       "      <td>8760</td>\n",
       "      <td>09-10-2014</td>\n",
       "      <td>Joshua Bennett</td>\n",
       "      <td>American</td>\n",
       "      <td>Accounting Assistant III</td>\n",
       "      <td>High</td>\n",
       "      <td>Gold</td>\n",
       "      <td>...</td>\n",
       "      <td>1089957.03</td>\n",
       "      <td>532867.88</td>\n",
       "      <td>657849.62</td>\n",
       "      <td>12947.31</td>\n",
       "      <td>1238859.91</td>\n",
       "      <td>1</td>\n",
       "      <td>3</td>\n",
       "      <td>3</td>\n",
       "      <td>2</td>\n",
       "      <td>4</td>\n",
       "    </tr>\n",
       "    <tr>\n",
       "      <th>2996</th>\n",
       "      <td>IND40556</td>\n",
       "      <td>Billy Williamson</td>\n",
       "      <td>44</td>\n",
       "      <td>32837</td>\n",
       "      <td>05-02-2009</td>\n",
       "      <td>Dennis Ruiz</td>\n",
       "      <td>European</td>\n",
       "      <td>Paralegal</td>\n",
       "      <td>Mid</td>\n",
       "      <td>Gold</td>\n",
       "      <td>...</td>\n",
       "      <td>136891.32</td>\n",
       "      <td>56581.74</td>\n",
       "      <td>93195.61</td>\n",
       "      <td>23205.69</td>\n",
       "      <td>277171.07</td>\n",
       "      <td>1</td>\n",
       "      <td>2</td>\n",
       "      <td>3</td>\n",
       "      <td>2</td>\n",
       "      <td>5</td>\n",
       "    </tr>\n",
       "    <tr>\n",
       "      <th>2997</th>\n",
       "      <td>IND72414</td>\n",
       "      <td>Victor Black</td>\n",
       "      <td>70</td>\n",
       "      <td>36088</td>\n",
       "      <td>29-12-2009</td>\n",
       "      <td>Joshua Ryan</td>\n",
       "      <td>American</td>\n",
       "      <td>Statistician IV</td>\n",
       "      <td>Low</td>\n",
       "      <td>Jade</td>\n",
       "      <td>...</td>\n",
       "      <td>214860.89</td>\n",
       "      <td>158726.06</td>\n",
       "      <td>35539.15</td>\n",
       "      <td>30291.81</td>\n",
       "      <td>502947.22</td>\n",
       "      <td>2</td>\n",
       "      <td>2</td>\n",
       "      <td>3</td>\n",
       "      <td>2</td>\n",
       "      <td>6</td>\n",
       "    </tr>\n",
       "    <tr>\n",
       "      <th>2998</th>\n",
       "      <td>IND46652</td>\n",
       "      <td>Andrew Ford</td>\n",
       "      <td>56</td>\n",
       "      <td>24871</td>\n",
       "      <td>13-02-2006</td>\n",
       "      <td>Nicholas Cunningham</td>\n",
       "      <td>European</td>\n",
       "      <td>Human Resources Assistant III</td>\n",
       "      <td>Mid</td>\n",
       "      <td>Jade</td>\n",
       "      <td>...</td>\n",
       "      <td>742630.22</td>\n",
       "      <td>404638.26</td>\n",
       "      <td>56411.33</td>\n",
       "      <td>6413.14</td>\n",
       "      <td>1538368.60</td>\n",
       "      <td>3</td>\n",
       "      <td>1</td>\n",
       "      <td>3</td>\n",
       "      <td>2</td>\n",
       "      <td>7</td>\n",
       "    </tr>\n",
       "    <tr>\n",
       "      <th>2999</th>\n",
       "      <td>IND40216</td>\n",
       "      <td>Amy Nguyen</td>\n",
       "      <td>79</td>\n",
       "      <td>38518</td>\n",
       "      <td>08-12-2005</td>\n",
       "      <td>Joe Hanson</td>\n",
       "      <td>American</td>\n",
       "      <td>Biostatistician III</td>\n",
       "      <td>High</td>\n",
       "      <td>Jade</td>\n",
       "      <td>...</td>\n",
       "      <td>65617.66</td>\n",
       "      <td>77769.08</td>\n",
       "      <td>32371.38</td>\n",
       "      <td>8992.36</td>\n",
       "      <td>329412.55</td>\n",
       "      <td>1</td>\n",
       "      <td>1</td>\n",
       "      <td>3</td>\n",
       "      <td>2</td>\n",
       "      <td>8</td>\n",
       "    </tr>\n",
       "  </tbody>\n",
       "</table>\n",
       "<p>3000 rows × 25 columns</p>\n",
       "</div>"
      ],
      "text/plain": [
       "     ï»¿Client ID              Name  Age  Location ID Joined Bank  \\\n",
       "0        IND81288     Raymond Mills   24        34324  06-05-2019   \n",
       "1        IND65833     Julia Spencer   23        42205  10-12-2001   \n",
       "2        IND47499    Stephen Murray   27         7314  25-01-2010   \n",
       "3        IND72498    Virginia Garza   40        34594  28-03-2019   \n",
       "4        IND60181   Melissa Sanders   46        41269  20-07-2012   \n",
       "...           ...               ...  ...          ...         ...   \n",
       "2995     IND66827         Earl Hall   82         8760  09-10-2014   \n",
       "2996     IND40556  Billy Williamson   44        32837  05-02-2009   \n",
       "2997     IND72414      Victor Black   70        36088  29-12-2009   \n",
       "2998     IND46652       Andrew Ford   56        24871  13-02-2006   \n",
       "2999     IND40216        Amy Nguyen   79        38518  08-12-2005   \n",
       "\n",
       "          Banking Contact Nationality                     Occupation  \\\n",
       "0          Anthony Torres    American           Safety Technician IV   \n",
       "1        Jonathan Hawkins     African            Software Consultant   \n",
       "2           Anthony Berry    European             Help Desk Operator   \n",
       "3              Steve Diaz    American                   Geologist II   \n",
       "4              Shawn Long    American            Assistant Professor   \n",
       "...                   ...         ...                            ...   \n",
       "2995       Joshua Bennett    American       Accounting Assistant III   \n",
       "2996          Dennis Ruiz    European                      Paralegal   \n",
       "2997          Joshua Ryan    American                Statistician IV   \n",
       "2998  Nicholas Cunningham    European  Human Resources Assistant III   \n",
       "2999           Joe Hanson    American            Biostatistician III   \n",
       "\n",
       "     Fee Structure Loyalty Classification  ...  Bank Deposits  \\\n",
       "0             High                   Jade  ...     1485828.64   \n",
       "1             High                   Jade  ...      641482.79   \n",
       "2             High                   Gold  ...     1033401.59   \n",
       "3              Mid                 Silver  ...     1048157.49   \n",
       "4              Mid               Platinum  ...      487782.53   \n",
       "...            ...                    ...  ...            ...   \n",
       "2995          High                   Gold  ...     1089957.03   \n",
       "2996           Mid                   Gold  ...      136891.32   \n",
       "2997           Low                   Jade  ...      214860.89   \n",
       "2998           Mid                   Jade  ...      742630.22   \n",
       "2999          High                   Jade  ...       65617.66   \n",
       "\n",
       "      Checking Accounts  Saving Accounts  Foreign Currency Account  \\\n",
       "0             603617.88        607332.46                  12249.96   \n",
       "1             229521.37        344635.16                  61162.31   \n",
       "2             652674.69        203054.35                  79071.78   \n",
       "3            1048157.49        234685.02                  57513.65   \n",
       "4             446644.25        128351.45                  30012.14   \n",
       "...                 ...              ...                       ...   \n",
       "2995          532867.88        657849.62                  12947.31   \n",
       "2996           56581.74         93195.61                  23205.69   \n",
       "2997          158726.06         35539.15                  30291.81   \n",
       "2998          404638.26         56411.33                   6413.14   \n",
       "2999           77769.08         32371.38                   8992.36   \n",
       "\n",
       "      Business Lending  Properties Owned  Risk Weighting  BRId  GenderId  IAId  \n",
       "0           1134475.30                 1               2     1         1     1  \n",
       "1           2000526.10                 1               3     2         1     2  \n",
       "2            548137.58                 1               3     3         2     3  \n",
       "3           1148402.29                 0               4     4         1     4  \n",
       "4           1674412.12                 0               3     1         2     5  \n",
       "...                ...               ...             ...   ...       ...   ...  \n",
       "2995        1238859.91                 1               3     3         2     4  \n",
       "2996         277171.07                 1               2     3         2     5  \n",
       "2997         502947.22                 2               2     3         2     6  \n",
       "2998        1538368.60                 3               1     3         2     7  \n",
       "2999         329412.55                 1               1     3         2     8  \n",
       "\n",
       "[3000 rows x 25 columns]"
      ]
     },
     "execution_count": 11,
     "metadata": {},
     "output_type": "execute_result"
    }
   ],
   "source": [
    "df\n"
   ]
  },
  {
   "cell_type": "code",
   "execution_count": null,
   "id": "30e4ce80",
   "metadata": {},
   "outputs": [
    {
     "data": {
      "application/vnd.microsoft.datawrangler.viewer.v0+json": {
       "columns": [
        {
         "name": "index",
         "rawType": "object",
         "type": "string"
        },
        {
         "name": "Age",
         "rawType": "float64",
         "type": "float"
        },
        {
         "name": "Location ID",
         "rawType": "float64",
         "type": "float"
        },
        {
         "name": "Estimated Income",
         "rawType": "float64",
         "type": "float"
        },
        {
         "name": "Superannuation Savings",
         "rawType": "float64",
         "type": "float"
        },
        {
         "name": "Amount of Credit Cards",
         "rawType": "float64",
         "type": "float"
        },
        {
         "name": "Credit Card Balance",
         "rawType": "float64",
         "type": "float"
        },
        {
         "name": "Bank Loans",
         "rawType": "float64",
         "type": "float"
        },
        {
         "name": "Bank Deposits",
         "rawType": "float64",
         "type": "float"
        },
        {
         "name": "Checking Accounts",
         "rawType": "float64",
         "type": "float"
        },
        {
         "name": "Saving Accounts",
         "rawType": "float64",
         "type": "float"
        },
        {
         "name": "Foreign Currency Account",
         "rawType": "float64",
         "type": "float"
        },
        {
         "name": "Business Lending",
         "rawType": "float64",
         "type": "float"
        },
        {
         "name": "Properties Owned",
         "rawType": "float64",
         "type": "float"
        },
        {
         "name": "Risk Weighting",
         "rawType": "float64",
         "type": "float"
        },
        {
         "name": "BRId",
         "rawType": "float64",
         "type": "float"
        },
        {
         "name": "GenderId",
         "rawType": "float64",
         "type": "float"
        },
        {
         "name": "IAId",
         "rawType": "float64",
         "type": "float"
        }
       ],
       "ref": "7b30dba0-f9c8-4ba7-9997-ae0dc2ee4b84",
       "rows": [
        [
         "count",
         "3000.0",
         "3000.0",
         "3000.0",
         "3000.0",
         "3000.0",
         "3000.0",
         "3000.0",
         "3000.0",
         "3000.0",
         "3000.0",
         "3000.0",
         "3000.0",
         "3000.0",
         "3000.0",
         "3000.0",
         "3000.0",
         "3000.0"
        ],
        [
         "mean",
         "51.03966666666667",
         "21563.323",
         "171305.03426333333",
         "25531.59967333333",
         "1.4636666666666667",
         "3176.2069433333336",
         "591386.1554866667",
         "671560.1939233334",
         "321092.94912666664",
         "232908.3534833333",
         "29883.529993333334",
         "866759.8084066667",
         "1.5186666666666666",
         "2.2493333333333334",
         "2.5593333333333335",
         "1.504",
         "10.425333333333333"
        ],
        [
         "std",
         "19.854760060362697",
         "12462.273016652494",
         "111935.80820930179",
         "16259.950769534425",
         "0.6763867645368558",
         "2497.0947090086534",
         "457557.0363338228",
         "645716.8568753365",
         "282079.553892588",
         "230007.77749790723",
         "23109.924009821396",
         "641230.3218226118",
         "1.102144786283635",
         "1.1311908561953352",
         "1.0077126163385726",
         "0.500067351249071",
         "5.988242193700281"
        ],
        [
         "min",
         "17.0",
         "12.0",
         "15919.48",
         "1482.03",
         "1.0",
         "1.17",
         "0.0",
         "0.0",
         "0.0",
         "0.0",
         "45.0",
         "0.0",
         "0.0",
         "1.0",
         "1.0",
         "1.0",
         "1.0"
        ],
        [
         "25%",
         "34.0",
         "10803.5",
         "82906.595",
         "12513.775",
         "1.0",
         "1236.63",
         "239628.1375",
         "204400.375",
         "119947.53",
         "74794.405",
         "11916.5425",
         "374825.1375",
         "1.0",
         "1.0",
         "2.0",
         "1.0",
         "5.0"
        ],
        [
         "50%",
         "51.0",
         "21129.5",
         "142313.47999999998",
         "22357.355000000003",
         "1.0",
         "2560.8050000000003",
         "479793.4",
         "463316.46",
         "242815.655",
         "164086.555",
         "24341.190000000002",
         "711314.6599999999",
         "2.0",
         "2.0",
         "3.0",
         "2.0",
         "10.0"
        ],
        [
         "75%",
         "69.0",
         "32054.5",
         "242290.305",
         "35464.74",
         "2.0",
         "4522.6325",
         "825813.0375000001",
         "942754.63",
         "434874.9375",
         "315575.0025",
         "41966.3925",
         "1185110.075",
         "2.0",
         "3.0",
         "3.0",
         "2.0",
         "15.0"
        ],
        [
         "max",
         "85.0",
         "43369.0",
         "522330.26",
         "75963.9",
         "3.0",
         "13991.99",
         "2667556.66",
         "3890598.08",
         "1969923.08",
         "1724118.36",
         "124704.87",
         "3825961.94",
         "3.0",
         "5.0",
         "4.0",
         "2.0",
         "22.0"
        ]
       ],
       "shape": {
        "columns": 17,
        "rows": 8
       }
      },
      "text/html": [
       "<div>\n",
       "<style scoped>\n",
       "    .dataframe tbody tr th:only-of-type {\n",
       "        vertical-align: middle;\n",
       "    }\n",
       "\n",
       "    .dataframe tbody tr th {\n",
       "        vertical-align: top;\n",
       "    }\n",
       "\n",
       "    .dataframe thead th {\n",
       "        text-align: right;\n",
       "    }\n",
       "</style>\n",
       "<table border=\"1\" class=\"dataframe\">\n",
       "  <thead>\n",
       "    <tr style=\"text-align: right;\">\n",
       "      <th></th>\n",
       "      <th>Age</th>\n",
       "      <th>Location ID</th>\n",
       "      <th>Estimated Income</th>\n",
       "      <th>Superannuation Savings</th>\n",
       "      <th>Amount of Credit Cards</th>\n",
       "      <th>Credit Card Balance</th>\n",
       "      <th>Bank Loans</th>\n",
       "      <th>Bank Deposits</th>\n",
       "      <th>Checking Accounts</th>\n",
       "      <th>Saving Accounts</th>\n",
       "      <th>Foreign Currency Account</th>\n",
       "      <th>Business Lending</th>\n",
       "      <th>Properties Owned</th>\n",
       "      <th>Risk Weighting</th>\n",
       "      <th>BRId</th>\n",
       "      <th>GenderId</th>\n",
       "      <th>IAId</th>\n",
       "    </tr>\n",
       "  </thead>\n",
       "  <tbody>\n",
       "    <tr>\n",
       "      <th>count</th>\n",
       "      <td>3000.000000</td>\n",
       "      <td>3000.000000</td>\n",
       "      <td>3000.000000</td>\n",
       "      <td>3000.000000</td>\n",
       "      <td>3000.000000</td>\n",
       "      <td>3000.000000</td>\n",
       "      <td>3.000000e+03</td>\n",
       "      <td>3.000000e+03</td>\n",
       "      <td>3.000000e+03</td>\n",
       "      <td>3.000000e+03</td>\n",
       "      <td>3000.000000</td>\n",
       "      <td>3.000000e+03</td>\n",
       "      <td>3000.000000</td>\n",
       "      <td>3000.000000</td>\n",
       "      <td>3000.000000</td>\n",
       "      <td>3000.000000</td>\n",
       "      <td>3000.000000</td>\n",
       "    </tr>\n",
       "    <tr>\n",
       "      <th>mean</th>\n",
       "      <td>51.039667</td>\n",
       "      <td>21563.323000</td>\n",
       "      <td>171305.034263</td>\n",
       "      <td>25531.599673</td>\n",
       "      <td>1.463667</td>\n",
       "      <td>3176.206943</td>\n",
       "      <td>5.913862e+05</td>\n",
       "      <td>6.715602e+05</td>\n",
       "      <td>3.210929e+05</td>\n",
       "      <td>2.329084e+05</td>\n",
       "      <td>29883.529993</td>\n",
       "      <td>8.667598e+05</td>\n",
       "      <td>1.518667</td>\n",
       "      <td>2.249333</td>\n",
       "      <td>2.559333</td>\n",
       "      <td>1.504000</td>\n",
       "      <td>10.425333</td>\n",
       "    </tr>\n",
       "    <tr>\n",
       "      <th>std</th>\n",
       "      <td>19.854760</td>\n",
       "      <td>12462.273017</td>\n",
       "      <td>111935.808209</td>\n",
       "      <td>16259.950770</td>\n",
       "      <td>0.676387</td>\n",
       "      <td>2497.094709</td>\n",
       "      <td>4.575570e+05</td>\n",
       "      <td>6.457169e+05</td>\n",
       "      <td>2.820796e+05</td>\n",
       "      <td>2.300078e+05</td>\n",
       "      <td>23109.924010</td>\n",
       "      <td>6.412303e+05</td>\n",
       "      <td>1.102145</td>\n",
       "      <td>1.131191</td>\n",
       "      <td>1.007713</td>\n",
       "      <td>0.500067</td>\n",
       "      <td>5.988242</td>\n",
       "    </tr>\n",
       "    <tr>\n",
       "      <th>min</th>\n",
       "      <td>17.000000</td>\n",
       "      <td>12.000000</td>\n",
       "      <td>15919.480000</td>\n",
       "      <td>1482.030000</td>\n",
       "      <td>1.000000</td>\n",
       "      <td>1.170000</td>\n",
       "      <td>0.000000e+00</td>\n",
       "      <td>0.000000e+00</td>\n",
       "      <td>0.000000e+00</td>\n",
       "      <td>0.000000e+00</td>\n",
       "      <td>45.000000</td>\n",
       "      <td>0.000000e+00</td>\n",
       "      <td>0.000000</td>\n",
       "      <td>1.000000</td>\n",
       "      <td>1.000000</td>\n",
       "      <td>1.000000</td>\n",
       "      <td>1.000000</td>\n",
       "    </tr>\n",
       "    <tr>\n",
       "      <th>25%</th>\n",
       "      <td>34.000000</td>\n",
       "      <td>10803.500000</td>\n",
       "      <td>82906.595000</td>\n",
       "      <td>12513.775000</td>\n",
       "      <td>1.000000</td>\n",
       "      <td>1236.630000</td>\n",
       "      <td>2.396281e+05</td>\n",
       "      <td>2.044004e+05</td>\n",
       "      <td>1.199475e+05</td>\n",
       "      <td>7.479440e+04</td>\n",
       "      <td>11916.542500</td>\n",
       "      <td>3.748251e+05</td>\n",
       "      <td>1.000000</td>\n",
       "      <td>1.000000</td>\n",
       "      <td>2.000000</td>\n",
       "      <td>1.000000</td>\n",
       "      <td>5.000000</td>\n",
       "    </tr>\n",
       "    <tr>\n",
       "      <th>50%</th>\n",
       "      <td>51.000000</td>\n",
       "      <td>21129.500000</td>\n",
       "      <td>142313.480000</td>\n",
       "      <td>22357.355000</td>\n",
       "      <td>1.000000</td>\n",
       "      <td>2560.805000</td>\n",
       "      <td>4.797934e+05</td>\n",
       "      <td>4.633165e+05</td>\n",
       "      <td>2.428157e+05</td>\n",
       "      <td>1.640866e+05</td>\n",
       "      <td>24341.190000</td>\n",
       "      <td>7.113147e+05</td>\n",
       "      <td>2.000000</td>\n",
       "      <td>2.000000</td>\n",
       "      <td>3.000000</td>\n",
       "      <td>2.000000</td>\n",
       "      <td>10.000000</td>\n",
       "    </tr>\n",
       "    <tr>\n",
       "      <th>75%</th>\n",
       "      <td>69.000000</td>\n",
       "      <td>32054.500000</td>\n",
       "      <td>242290.305000</td>\n",
       "      <td>35464.740000</td>\n",
       "      <td>2.000000</td>\n",
       "      <td>4522.632500</td>\n",
       "      <td>8.258130e+05</td>\n",
       "      <td>9.427546e+05</td>\n",
       "      <td>4.348749e+05</td>\n",
       "      <td>3.155750e+05</td>\n",
       "      <td>41966.392500</td>\n",
       "      <td>1.185110e+06</td>\n",
       "      <td>2.000000</td>\n",
       "      <td>3.000000</td>\n",
       "      <td>3.000000</td>\n",
       "      <td>2.000000</td>\n",
       "      <td>15.000000</td>\n",
       "    </tr>\n",
       "    <tr>\n",
       "      <th>max</th>\n",
       "      <td>85.000000</td>\n",
       "      <td>43369.000000</td>\n",
       "      <td>522330.260000</td>\n",
       "      <td>75963.900000</td>\n",
       "      <td>3.000000</td>\n",
       "      <td>13991.990000</td>\n",
       "      <td>2.667557e+06</td>\n",
       "      <td>3.890598e+06</td>\n",
       "      <td>1.969923e+06</td>\n",
       "      <td>1.724118e+06</td>\n",
       "      <td>124704.870000</td>\n",
       "      <td>3.825962e+06</td>\n",
       "      <td>3.000000</td>\n",
       "      <td>5.000000</td>\n",
       "      <td>4.000000</td>\n",
       "      <td>2.000000</td>\n",
       "      <td>22.000000</td>\n",
       "    </tr>\n",
       "  </tbody>\n",
       "</table>\n",
       "</div>"
      ],
      "text/plain": [
       "               Age   Location ID  Estimated Income  Superannuation Savings  \\\n",
       "count  3000.000000   3000.000000       3000.000000             3000.000000   \n",
       "mean     51.039667  21563.323000     171305.034263            25531.599673   \n",
       "std      19.854760  12462.273017     111935.808209            16259.950770   \n",
       "min      17.000000     12.000000      15919.480000             1482.030000   \n",
       "25%      34.000000  10803.500000      82906.595000            12513.775000   \n",
       "50%      51.000000  21129.500000     142313.480000            22357.355000   \n",
       "75%      69.000000  32054.500000     242290.305000            35464.740000   \n",
       "max      85.000000  43369.000000     522330.260000            75963.900000   \n",
       "\n",
       "       Amount of Credit Cards  Credit Card Balance    Bank Loans  \\\n",
       "count             3000.000000          3000.000000  3.000000e+03   \n",
       "mean                 1.463667          3176.206943  5.913862e+05   \n",
       "std                  0.676387          2497.094709  4.575570e+05   \n",
       "min                  1.000000             1.170000  0.000000e+00   \n",
       "25%                  1.000000          1236.630000  2.396281e+05   \n",
       "50%                  1.000000          2560.805000  4.797934e+05   \n",
       "75%                  2.000000          4522.632500  8.258130e+05   \n",
       "max                  3.000000         13991.990000  2.667557e+06   \n",
       "\n",
       "       Bank Deposits  Checking Accounts  Saving Accounts  \\\n",
       "count   3.000000e+03       3.000000e+03     3.000000e+03   \n",
       "mean    6.715602e+05       3.210929e+05     2.329084e+05   \n",
       "std     6.457169e+05       2.820796e+05     2.300078e+05   \n",
       "min     0.000000e+00       0.000000e+00     0.000000e+00   \n",
       "25%     2.044004e+05       1.199475e+05     7.479440e+04   \n",
       "50%     4.633165e+05       2.428157e+05     1.640866e+05   \n",
       "75%     9.427546e+05       4.348749e+05     3.155750e+05   \n",
       "max     3.890598e+06       1.969923e+06     1.724118e+06   \n",
       "\n",
       "       Foreign Currency Account  Business Lending  Properties Owned  \\\n",
       "count               3000.000000      3.000000e+03       3000.000000   \n",
       "mean               29883.529993      8.667598e+05          1.518667   \n",
       "std                23109.924010      6.412303e+05          1.102145   \n",
       "min                   45.000000      0.000000e+00          0.000000   \n",
       "25%                11916.542500      3.748251e+05          1.000000   \n",
       "50%                24341.190000      7.113147e+05          2.000000   \n",
       "75%                41966.392500      1.185110e+06          2.000000   \n",
       "max               124704.870000      3.825962e+06          3.000000   \n",
       "\n",
       "       Risk Weighting         BRId     GenderId         IAId  \n",
       "count     3000.000000  3000.000000  3000.000000  3000.000000  \n",
       "mean         2.249333     2.559333     1.504000    10.425333  \n",
       "std          1.131191     1.007713     0.500067     5.988242  \n",
       "min          1.000000     1.000000     1.000000     1.000000  \n",
       "25%          1.000000     2.000000     1.000000     5.000000  \n",
       "50%          2.000000     3.000000     2.000000    10.000000  \n",
       "75%          3.000000     3.000000     2.000000    15.000000  \n",
       "max          5.000000     4.000000     2.000000    22.000000  "
      ]
     },
     "execution_count": 12,
     "metadata": {},
     "output_type": "execute_result"
    }
   ],
   "source": [
    "df.describe()\n"
   ]
  },
  {
   "cell_type": "code",
   "execution_count": null,
   "id": "d8ab6589",
   "metadata": {},
   "outputs": [
    {
     "data": {
      "application/vnd.microsoft.datawrangler.viewer.v0+json": {
       "columns": [
        {
         "name": "index",
         "rawType": "object",
         "type": "string"
        },
        {
         "name": "ï»¿Client ID",
         "rawType": "object",
         "type": "unknown"
        },
        {
         "name": "Name",
         "rawType": "object",
         "type": "unknown"
        },
        {
         "name": "Joined Bank",
         "rawType": "object",
         "type": "unknown"
        },
        {
         "name": "Banking Contact",
         "rawType": "object",
         "type": "unknown"
        },
        {
         "name": "Nationality",
         "rawType": "object",
         "type": "unknown"
        },
        {
         "name": "Occupation",
         "rawType": "object",
         "type": "unknown"
        },
        {
         "name": "Fee Structure",
         "rawType": "object",
         "type": "unknown"
        },
        {
         "name": "Loyalty Classification",
         "rawType": "object",
         "type": "unknown"
        }
       ],
       "ref": "0113b8c5-90f6-4a9f-99fb-ee3fbe72d800",
       "rows": [
        [
         "count",
         "3000",
         "3000",
         "3000",
         "3000",
         "3000",
         "3000",
         "3000",
         "3000"
        ],
        [
         "unique",
         "2940",
         "2913",
         "2579",
         "49",
         "5",
         "195",
         "3",
         "4"
        ],
        [
         "top",
         "IND48103",
         "Jeremy Alexander",
         "19-06-2020",
         "Ernest Rivera",
         "European",
         "Associate Professor",
         "High",
         "Jade"
        ],
        [
         "freq",
         "3",
         "2",
         "4",
         "77",
         "1309",
         "28",
         "1476",
         "1331"
        ]
       ],
       "shape": {
        "columns": 8,
        "rows": 4
       }
      },
      "text/html": [
       "<div>\n",
       "<style scoped>\n",
       "    .dataframe tbody tr th:only-of-type {\n",
       "        vertical-align: middle;\n",
       "    }\n",
       "\n",
       "    .dataframe tbody tr th {\n",
       "        vertical-align: top;\n",
       "    }\n",
       "\n",
       "    .dataframe thead th {\n",
       "        text-align: right;\n",
       "    }\n",
       "</style>\n",
       "<table border=\"1\" class=\"dataframe\">\n",
       "  <thead>\n",
       "    <tr style=\"text-align: right;\">\n",
       "      <th></th>\n",
       "      <th>ï»¿Client ID</th>\n",
       "      <th>Name</th>\n",
       "      <th>Joined Bank</th>\n",
       "      <th>Banking Contact</th>\n",
       "      <th>Nationality</th>\n",
       "      <th>Occupation</th>\n",
       "      <th>Fee Structure</th>\n",
       "      <th>Loyalty Classification</th>\n",
       "    </tr>\n",
       "  </thead>\n",
       "  <tbody>\n",
       "    <tr>\n",
       "      <th>count</th>\n",
       "      <td>3000</td>\n",
       "      <td>3000</td>\n",
       "      <td>3000</td>\n",
       "      <td>3000</td>\n",
       "      <td>3000</td>\n",
       "      <td>3000</td>\n",
       "      <td>3000</td>\n",
       "      <td>3000</td>\n",
       "    </tr>\n",
       "    <tr>\n",
       "      <th>unique</th>\n",
       "      <td>2940</td>\n",
       "      <td>2913</td>\n",
       "      <td>2579</td>\n",
       "      <td>49</td>\n",
       "      <td>5</td>\n",
       "      <td>195</td>\n",
       "      <td>3</td>\n",
       "      <td>4</td>\n",
       "    </tr>\n",
       "    <tr>\n",
       "      <th>top</th>\n",
       "      <td>IND48103</td>\n",
       "      <td>Jeremy Alexander</td>\n",
       "      <td>19-06-2020</td>\n",
       "      <td>Ernest Rivera</td>\n",
       "      <td>European</td>\n",
       "      <td>Associate Professor</td>\n",
       "      <td>High</td>\n",
       "      <td>Jade</td>\n",
       "    </tr>\n",
       "    <tr>\n",
       "      <th>freq</th>\n",
       "      <td>3</td>\n",
       "      <td>2</td>\n",
       "      <td>4</td>\n",
       "      <td>77</td>\n",
       "      <td>1309</td>\n",
       "      <td>28</td>\n",
       "      <td>1476</td>\n",
       "      <td>1331</td>\n",
       "    </tr>\n",
       "  </tbody>\n",
       "</table>\n",
       "</div>"
      ],
      "text/plain": [
       "       ï»¿Client ID              Name Joined Bank Banking Contact Nationality  \\\n",
       "count          3000              3000        3000            3000        3000   \n",
       "unique         2940              2913        2579              49           5   \n",
       "top        IND48103  Jeremy Alexander  19-06-2020   Ernest Rivera    European   \n",
       "freq              3                 2           4              77        1309   \n",
       "\n",
       "                 Occupation Fee Structure Loyalty Classification  \n",
       "count                  3000          3000                   3000  \n",
       "unique                  195             3                      4  \n",
       "top     Associate Professor          High                   Jade  \n",
       "freq                     28          1476                   1331  "
      ]
     },
     "execution_count": 18,
     "metadata": {},
     "output_type": "execute_result"
    }
   ],
   "source": [
    "df.describe(include=[\"O\"])\n"
   ]
  },
  {
   "cell_type": "code",
   "execution_count": null,
   "id": "4ff07154",
   "metadata": {},
   "outputs": [
    {
     "data": {
      "text/plain": [
       "(3000, 25)"
      ]
     },
     "execution_count": 13,
     "metadata": {},
     "output_type": "execute_result"
    }
   ],
   "source": [
    "df.shape\n"
   ]
  },
  {
   "cell_type": "code",
   "execution_count": null,
   "id": "80587701",
   "metadata": {},
   "outputs": [
    {
     "name": "stdout",
     "output_type": "stream",
     "text": [
      "<class 'pandas.core.frame.DataFrame'>\n",
      "RangeIndex: 3000 entries, 0 to 2999\n",
      "Data columns (total 25 columns):\n",
      " #   Column                    Non-Null Count  Dtype  \n",
      "---  ------                    --------------  -----  \n",
      " 0   ï»¿Client ID              3000 non-null   object \n",
      " 1   Name                      3000 non-null   object \n",
      " 2   Age                       3000 non-null   int64  \n",
      " 3   Location ID               3000 non-null   int64  \n",
      " 4   Joined Bank               3000 non-null   object \n",
      " 5   Banking Contact           3000 non-null   object \n",
      " 6   Nationality               3000 non-null   object \n",
      " 7   Occupation                3000 non-null   object \n",
      " 8   Fee Structure             3000 non-null   object \n",
      " 9   Loyalty Classification    3000 non-null   object \n",
      " 10  Estimated Income          3000 non-null   float64\n",
      " 11  Superannuation Savings    3000 non-null   float64\n",
      " 12  Amount of Credit Cards    3000 non-null   int64  \n",
      " 13  Credit Card Balance       3000 non-null   float64\n",
      " 14  Bank Loans                3000 non-null   float64\n",
      " 15  Bank Deposits             3000 non-null   float64\n",
      " 16  Checking Accounts         3000 non-null   float64\n",
      " 17  Saving Accounts           3000 non-null   float64\n",
      " 18  Foreign Currency Account  3000 non-null   float64\n",
      " 19  Business Lending          3000 non-null   float64\n",
      " 20  Properties Owned          3000 non-null   int64  \n",
      " 21  Risk Weighting            3000 non-null   int64  \n",
      " 22  BRId                      3000 non-null   int64  \n",
      " 23  GenderId                  3000 non-null   int64  \n",
      " 24  IAId                      3000 non-null   int64  \n",
      "dtypes: float64(9), int64(8), object(8)\n",
      "memory usage: 586.1+ KB\n"
     ]
    }
   ],
   "source": [
    "df.info()\n"
   ]
  },
  {
   "cell_type": "code",
   "execution_count": null,
   "id": "423789c5",
   "metadata": {},
   "outputs": [
    {
     "data": {
      "application/vnd.microsoft.datawrangler.viewer.v0+json": {
       "columns": [
        {
         "name": "index",
         "rawType": "object",
         "type": "string"
        },
        {
         "name": "0",
         "rawType": "int64",
         "type": "integer"
        }
       ],
       "ref": "839db056-ff30-4d71-9b52-29a207731a0c",
       "rows": [
        [
         "ï»¿Client ID",
         "0"
        ],
        [
         "Name",
         "0"
        ],
        [
         "Age",
         "0"
        ],
        [
         "Location ID",
         "0"
        ],
        [
         "Joined Bank",
         "0"
        ],
        [
         "Banking Contact",
         "0"
        ],
        [
         "Nationality",
         "0"
        ],
        [
         "Occupation",
         "0"
        ],
        [
         "Fee Structure",
         "0"
        ],
        [
         "Loyalty Classification",
         "0"
        ],
        [
         "Estimated Income",
         "0"
        ],
        [
         "Superannuation Savings",
         "0"
        ],
        [
         "Amount of Credit Cards",
         "0"
        ],
        [
         "Credit Card Balance",
         "0"
        ],
        [
         "Bank Loans",
         "0"
        ],
        [
         "Bank Deposits",
         "0"
        ],
        [
         "Checking Accounts",
         "0"
        ],
        [
         "Saving Accounts",
         "0"
        ],
        [
         "Foreign Currency Account",
         "0"
        ],
        [
         "Business Lending",
         "0"
        ],
        [
         "Properties Owned",
         "0"
        ],
        [
         "Risk Weighting",
         "0"
        ],
        [
         "BRId",
         "0"
        ],
        [
         "GenderId",
         "0"
        ],
        [
         "IAId",
         "0"
        ]
       ],
       "shape": {
        "columns": 1,
        "rows": 25
       }
      },
      "text/plain": [
       "ï»¿Client ID                0\n",
       "Name                        0\n",
       "Age                         0\n",
       "Location ID                 0\n",
       "Joined Bank                 0\n",
       "Banking Contact             0\n",
       "Nationality                 0\n",
       "Occupation                  0\n",
       "Fee Structure               0\n",
       "Loyalty Classification      0\n",
       "Estimated Income            0\n",
       "Superannuation Savings      0\n",
       "Amount of Credit Cards      0\n",
       "Credit Card Balance         0\n",
       "Bank Loans                  0\n",
       "Bank Deposits               0\n",
       "Checking Accounts           0\n",
       "Saving Accounts             0\n",
       "Foreign Currency Account    0\n",
       "Business Lending            0\n",
       "Properties Owned            0\n",
       "Risk Weighting              0\n",
       "BRId                        0\n",
       "GenderId                    0\n",
       "IAId                        0\n",
       "dtype: int64"
      ]
     },
     "execution_count": 15,
     "metadata": {},
     "output_type": "execute_result"
    }
   ],
   "source": [
    "df.isnull().sum()\n"
   ]
  },
  {
   "cell_type": "code",
   "execution_count": null,
   "id": "f5f8384d",
   "metadata": {},
   "outputs": [],
   "source": []
  },
  {
   "cell_type": "code",
   "execution_count": null,
   "id": "d9e6ffbc",
   "metadata": {},
   "outputs": [
    {
     "data": {
      "text/plain": [
       "np.int64(0)"
      ]
     },
     "execution_count": 16,
     "metadata": {},
     "output_type": "execute_result"
    }
   ],
   "source": [
    "df.duplicated().sum()\n"
   ]
  },
  {
   "cell_type": "code",
   "execution_count": null,
   "id": "02200516",
   "metadata": {},
   "outputs": [
    {
     "data": {
      "text/plain": [
       "Index(['ï»¿Client ID', 'Name', 'Age', 'Location ID', 'Joined Bank',\n",
       "       'Banking Contact', 'Nationality', 'Occupation', 'Fee Structure',\n",
       "       'Loyalty Classification', 'Estimated Income', 'Superannuation Savings',\n",
       "       'Amount of Credit Cards', 'Credit Card Balance', 'Bank Loans',\n",
       "       'Bank Deposits', 'Checking Accounts', 'Saving Accounts',\n",
       "       'Foreign Currency Account', 'Business Lending', 'Properties Owned',\n",
       "       'Risk Weighting', 'BRId', 'GenderId', 'IAId'],\n",
       "      dtype='object')"
      ]
     },
     "execution_count": 17,
     "metadata": {},
     "output_type": "execute_result"
    }
   ],
   "source": [
    "df.columns\n"
   ]
  },
  {
   "cell_type": "code",
   "execution_count": null,
   "id": "a347f6cd",
   "metadata": {},
   "outputs": [
    {
     "data": {
      "application/vnd.microsoft.datawrangler.viewer.v0+json": {
       "columns": [
        {
         "name": "Estimated Income",
         "rawType": "float64",
         "type": "float"
        },
        {
         "name": "count",
         "rawType": "int64",
         "type": "integer"
        }
       ],
       "ref": "b995db86-590c-44a6-936b-71f31604188e",
       "rows": [
        [
         "56826.53",
         "1"
        ],
        [
         "75384.77",
         "1"
        ],
        [
         "289834.31",
         "1"
        ],
        [
         "169935.23",
         "1"
        ],
        [
         "356808.11",
         "1"
        ],
        [
         "130711.68",
         "1"
        ],
        [
         "118326.96",
         "1"
        ],
        [
         "57336.47",
         "1"
        ],
        [
         "119770.6",
         "1"
        ],
        [
         "132736.5",
         "1"
        ],
        [
         "261310.76",
         "1"
        ],
        [
         "138824.95",
         "1"
        ],
        [
         "40905.2",
         "1"
        ],
        [
         "268794.77",
         "1"
        ],
        [
         "356554.05",
         "1"
        ],
        [
         "87354.96",
         "1"
        ],
        [
         "47530.5",
         "1"
        ],
        [
         "85056.25",
         "1"
        ],
        [
         "188137.99",
         "1"
        ],
        [
         "133980.14",
         "1"
        ],
        [
         "269208.19",
         "1"
        ],
        [
         "361904.2",
         "1"
        ],
        [
         "34449.05",
         "1"
        ],
        [
         "49460.08",
         "1"
        ],
        [
         "131497.09",
         "1"
        ],
        [
         "193729.94",
         "1"
        ],
        [
         "162807.39",
         "1"
        ],
        [
         "91243.05",
         "1"
        ],
        [
         "193690.93",
         "1"
        ],
        [
         "263248.97",
         "1"
        ],
        [
         "147292.91",
         "1"
        ],
        [
         "224640.75",
         "1"
        ],
        [
         "137256.09",
         "1"
        ],
        [
         "82703.81",
         "1"
        ],
        [
         "130023.36",
         "1"
        ],
        [
         "246615.84",
         "1"
        ],
        [
         "87019.73",
         "1"
        ],
        [
         "502309.08",
         "1"
        ],
        [
         "50651.56",
         "1"
        ],
        [
         "30942.07",
         "1"
        ],
        [
         "77971.46",
         "1"
        ],
        [
         "55011.84",
         "1"
        ],
        [
         "293419.07",
         "1"
        ],
        [
         "32301.47",
         "1"
        ],
        [
         "90437.66",
         "1"
        ],
        [
         "142841.26",
         "1"
        ],
        [
         "43622.88",
         "1"
        ],
        [
         "52826.78",
         "1"
        ],
        [
         "180214.79",
         "1"
        ],
        [
         "54753.75",
         "1"
        ]
       ],
       "shape": {
        "columns": 1,
        "rows": 3000
       }
      },
      "text/plain": [
       "Estimated Income\n",
       "56826.53     1\n",
       "75384.77     1\n",
       "289834.31    1\n",
       "169935.23    1\n",
       "356808.11    1\n",
       "            ..\n",
       "115637.19    1\n",
       "111449.06    1\n",
       "74966.51     1\n",
       "65369.36     1\n",
       "87849.47     1\n",
       "Name: count, Length: 3000, dtype: int64"
      ]
     },
     "execution_count": 19,
     "metadata": {},
     "output_type": "execute_result"
    }
   ],
   "source": [
    "df[\"Estimated Income\"].value_counts()\n"
   ]
  },
  {
   "cell_type": "code",
   "execution_count": null,
   "id": "e2768c6b",
   "metadata": {},
   "outputs": [],
   "source": [
    "bins = [0, 50000, 100000, 150000, float(\"inf\")]\n",
    "labels = [\"Low\", \"Medium\", \"High\", \"Very High\"]\n",
    "\n",
    "df[\"Income Band\"] = pd.cut(\n",
    "    df[\"Estimated Income\"],\n",
    "    bins=bins,\n",
    "    labels=labels,\n",
    "    right=False,\n",
    ")\n"
   ]
  },
  {
   "cell_type": "code",
   "execution_count": null,
   "id": "f88416cc",
   "metadata": {},
   "outputs": [
    {
     "data": {
      "application/vnd.microsoft.datawrangler.viewer.v0+json": {
       "columns": [
        {
         "name": "Income Band",
         "rawType": "category",
         "type": "unknown"
        },
        {
         "name": "count",
         "rawType": "int64",
         "type": "integer"
        }
       ],
       "ref": "b9f06cfe-1210-4428-9ac0-6d60732c2ca3",
       "rows": [
        [
         "Very High",
         "1417"
        ],
        [
         "Medium",
         "740"
        ],
        [
         "High",
         "556"
        ],
        [
         "Low",
         "287"
        ]
       ],
       "shape": {
        "columns": 1,
        "rows": 4
       }
      },
      "text/plain": [
       "Income Band\n",
       "Very High    1417\n",
       "Medium        740\n",
       "High          556\n",
       "Low           287\n",
       "Name: count, dtype: int64"
      ]
     },
     "execution_count": 26,
     "metadata": {},
     "output_type": "execute_result"
    }
   ],
   "source": [
    "df[\"Income Band\"].value_counts()\n"
   ]
  },
  {
   "cell_type": "code",
   "execution_count": null,
   "id": "f629cf04",
   "metadata": {},
   "outputs": [
    {
     "data": {
      "text/plain": [
       "<Axes: title={'center': 'Income Band Distribution'}, xlabel='Income Band'>"
      ]
     },
     "execution_count": 31,
     "metadata": {},
     "output_type": "execute_result"
    },
    {
     "data": {
      "image/png": "[encoded data removed]",
      "text/plain": [
       "<Figure size 640x480 with 1 Axes>"
      ]
     },
     "metadata": {},
     "output_type": "display_data"
    }
   ],
   "source": [
    "df[\"Income Band\"].value_counts().plot(kind=\"bar\", title=\"Income Band Distribution\")\n"
   ]
  },
  {
   "cell_type": "code",
   "execution_count": null,
   "id": "117845d3",
   "metadata": {},
   "outputs": [],
   "source": [
    "cat_cols = df.select_dtypes(include=[\"object\", \"category\"]).columns.tolist()[2:]\n",
    "cat_cols2 = [\n",
    "    \"Properties Owned\",\n",
    "    \"Risk Weighting\",\n",
    "    \"BRId\",\n",
    "    \"GenderId\",\n",
    "    \"IAId\",\n",
    "]\n",
    "cat_cols.extend(cat_cols2)\n"
   ]
  },
  {
   "cell_type": "code",
   "execution_count": null,
   "id": "68d543cb",
   "metadata": {},
   "outputs": [],
   "source": [
    "cat_cols.remove((\"Joined Bank\"))\n",
    "cat_cols.remove((\"Occupation\"))\n"
   ]
  },
  {
   "cell_type": "code",
   "execution_count": null,
   "id": "b83ebe1f",
   "metadata": {},
   "outputs": [
    {
     "data": {
      "text/plain": [
       "['Joined Bank',\n",
       " 'Banking Contact',\n",
       " 'Nationality',\n",
       " 'Occupation',\n",
       " 'Fee Structure',\n",
       " 'Loyalty Classification',\n",
       " 'Income Band',\n",
       " 'Properties Owned',\n",
       " 'Risk Weighting',\n",
       " 'BRId',\n",
       " 'GenderId',\n",
       " 'IAId']"
      ]
     },
     "execution_count": 55,
     "metadata": {},
     "output_type": "execute_result"
    }
   ],
   "source": [
    "cat_cols\n"
   ]
  },
  {
   "cell_type": "code",
   "execution_count": null,
   "id": "3b72c897",
   "metadata": {},
   "outputs": [
    {
     "name": "stdout",
     "output_type": "stream",
     "text": [
      "Banking Contact Distribution \n"
     ]
    },
    {
     "data": {
      "application/vnd.microsoft.datawrangler.viewer.v0+json": {
       "columns": [
        {
         "name": "Banking Contact",
         "rawType": "object",
         "type": "string"
        },
        {
         "name": "count",
         "rawType": "int64",
         "type": "integer"
        }
       ],
       "ref": "df24560e-9771-48bc-add1-50cd841f585f",
       "rows": [
        [
         "Ernest Rivera",
         "77"
        ],
        [
         "Anthony Torres",
         "72"
        ],
        [
         "Frank Brown",
         "72"
        ],
        [
         "Benjamin Kim",
         "72"
        ],
        [
         "Dennis Ruiz",
         "71"
        ],
        [
         "Patrick Graham",
         "69"
        ],
        [
         "Joe Price",
         "68"
        ],
        [
         "Nicholas Cunningham",
         "67"
        ],
        [
         "Chris Armstrong",
         "67"
        ],
        [
         "Victor Martinez",
         "67"
        ],
        [
         "Jesse Evans",
         "67"
        ],
        [
         "Anthony Berry",
         "66"
        ],
        [
         "Shawn Cook",
         "66"
        ],
        [
         "Joshua Bennett",
         "65"
        ],
        [
         "Douglas Tucker",
         "65"
        ],
        [
         "James Castillo",
         "65"
        ],
        [
         "Adam Hernandez",
         "64"
        ],
        [
         "Dennis Morris",
         "64"
        ],
        [
         "Bruce Porter",
         "64"
        ],
        [
         "Victor Ramos",
         "63"
        ],
        [
         "Nicholas Simmons",
         "63"
        ],
        [
         "Stephen Payne",
         "63"
        ],
        [
         "Paul Holmes",
         "63"
        ],
        [
         "Jerry Green",
         "63"
        ],
        [
         "Jeremy Vasquez",
         "62"
        ],
        [
         "Shawn Long",
         "62"
        ],
        [
         "Raymond Alexander",
         "62"
        ],
        [
         "Jonathan Hawkins",
         "61"
        ],
        [
         "Joshua Little",
         "60"
        ],
        [
         "Paul Larson",
         "60"
        ],
        [
         "Mark Montgomery",
         "60"
        ],
        [
         "Joshua Ryan",
         "59"
        ],
        [
         "Roger Alexander",
         "59"
        ],
        [
         "Anthony Simpson",
         "59"
        ],
        [
         "Samuel Fowler",
         "58"
        ],
        [
         "Bruce Butler",
         "57"
        ],
        [
         "Shawn Wallace",
         "57"
        ],
        [
         "Joe Hanson",
         "57"
        ],
        [
         "Steve Diaz",
         "55"
        ],
        [
         "Jason Duncan",
         "55"
        ],
        [
         "Phillip Peters",
         "55"
        ],
        [
         "George Lewis",
         "54"
        ],
        [
         "Gregory Simmons",
         "53"
        ],
        [
         "Keith Griffin",
         "53"
        ],
        [
         "Donald Reynolds",
         "51"
        ],
        [
         "Carl Nguyen",
         "49"
        ],
        [
         "Roy Rice",
         "49"
        ],
        [
         "Todd Roberts",
         "47"
        ],
        [
         "Bobby Burton",
         "43"
        ]
       ],
       "shape": {
        "columns": 1,
        "rows": 49
       }
      },
      "text/plain": [
       "Banking Contact\n",
       "Ernest Rivera          77\n",
       "Anthony Torres         72\n",
       "Frank Brown            72\n",
       "Benjamin Kim           72\n",
       "Dennis Ruiz            71\n",
       "Patrick Graham         69\n",
       "Joe Price              68\n",
       "Nicholas Cunningham    67\n",
       "Chris Armstrong        67\n",
       "Victor Martinez        67\n",
       "Jesse Evans            67\n",
       "Anthony Berry          66\n",
       "Shawn Cook             66\n",
       "Joshua Bennett         65\n",
       "Douglas Tucker         65\n",
       "James Castillo         65\n",
       "Adam Hernandez         64\n",
       "Dennis Morris          64\n",
       "Bruce Porter           64\n",
       "Victor Ramos           63\n",
       "Nicholas Simmons       63\n",
       "Stephen Payne          63\n",
       "Paul Holmes            63\n",
       "Jerry Green            63\n",
       "Jeremy Vasquez         62\n",
       "Shawn Long             62\n",
       "Raymond Alexander      62\n",
       "Jonathan Hawkins       61\n",
       "Joshua Little          60\n",
       "Paul Larson            60\n",
       "Mark Montgomery        60\n",
       "Joshua Ryan            59\n",
       "Roger Alexander        59\n",
       "Anthony Simpson        59\n",
       "Samuel Fowler          58\n",
       "Bruce Butler           57\n",
       "Shawn Wallace          57\n",
       "Joe Hanson             57\n",
       "Steve Diaz             55\n",
       "Jason Duncan           55\n",
       "Phillip Peters         55\n",
       "George Lewis           54\n",
       "Gregory Simmons        53\n",
       "Keith Griffin          53\n",
       "Donald Reynolds        51\n",
       "Carl Nguyen            49\n",
       "Roy Rice               49\n",
       "Todd Roberts           47\n",
       "Bobby Burton           43\n",
       "Name: count, dtype: int64"
      ]
     },
     "metadata": {},
     "output_type": "display_data"
    },
    {
     "name": "stdout",
     "output_type": "stream",
     "text": [
      "Nationality Distribution \n"
     ]
    },
    {
     "data": {
      "application/vnd.microsoft.datawrangler.viewer.v0+json": {
       "columns": [
        {
         "name": "Nationality",
         "rawType": "object",
         "type": "string"
        },
        {
         "name": "count",
         "rawType": "int64",
         "type": "integer"
        }
       ],
       "ref": "76a3c41c-f76a-4d21-a926-a666c850d25c",
       "rows": [
        [
         "European",
         "1309"
        ],
        [
         "Asian",
         "754"
        ],
        [
         "American",
         "507"
        ],
        [
         "Australian",
         "254"
        ],
        [
         "African",
         "176"
        ]
       ],
       "shape": {
        "columns": 1,
        "rows": 5
       }
      },
      "text/plain": [
       "Nationality\n",
       "European      1309\n",
       "Asian          754\n",
       "American       507\n",
       "Australian     254\n",
       "African        176\n",
       "Name: count, dtype: int64"
      ]
     },
     "metadata": {},
     "output_type": "display_data"
    },
    {
     "name": "stdout",
     "output_type": "stream",
     "text": [
      "Fee Structure Distribution \n"
     ]
    },
    {
     "data": {
      "application/vnd.microsoft.datawrangler.viewer.v0+json": {
       "columns": [
        {
         "name": "Fee Structure",
         "rawType": "object",
         "type": "string"
        },
        {
         "name": "count",
         "rawType": "int64",
         "type": "integer"
        }
       ],
       "ref": "b728c4a9-2f15-465f-8fae-8b7595955676",
       "rows": [
        [
         "High",
         "1476"
        ],
        [
         "Mid",
         "962"
        ],
        [
         "Low",
         "562"
        ]
       ],
       "shape": {
        "columns": 1,
        "rows": 3
       }
      },
      "text/plain": [
       "Fee Structure\n",
       "High    1476\n",
       "Mid      962\n",
       "Low      562\n",
       "Name: count, dtype: int64"
      ]
     },
     "metadata": {},
     "output_type": "display_data"
    },
    {
     "name": "stdout",
     "output_type": "stream",
     "text": [
      "Loyalty Classification Distribution \n"
     ]
    },
    {
     "data": {
      "application/vnd.microsoft.datawrangler.viewer.v0+json": {
       "columns": [
        {
         "name": "Loyalty Classification",
         "rawType": "object",
         "type": "string"
        },
        {
         "name": "count",
         "rawType": "int64",
         "type": "integer"
        }
       ],
       "ref": "ee6ae1bf-cdd7-454b-bb82-2414e30b5efc",
       "rows": [
        [
         "Jade",
         "1331"
        ],
        [
         "Silver",
         "767"
        ],
        [
         "Gold",
         "585"
        ],
        [
         "Platinum",
         "317"
        ]
       ],
       "shape": {
        "columns": 1,
        "rows": 4
       }
      },
      "text/plain": [
       "Loyalty Classification\n",
       "Jade        1331\n",
       "Silver       767\n",
       "Gold         585\n",
       "Platinum     317\n",
       "Name: count, dtype: int64"
      ]
     },
     "metadata": {},
     "output_type": "display_data"
    },
    {
     "name": "stdout",
     "output_type": "stream",
     "text": [
      "Income Band Distribution \n"
     ]
    },
    {
     "data": {
      "application/vnd.microsoft.datawrangler.viewer.v0+json": {
       "columns": [
        {
         "name": "Income Band",
         "rawType": "category",
         "type": "unknown"
        },
        {
         "name": "count",
         "rawType": "int64",
         "type": "integer"
        }
       ],
       "ref": "54c84aaa-51ca-4553-9a9d-3f81ed9088dc",
       "rows": [
        [
         "Very High",
         "1417"
        ],
        [
         "Medium",
         "740"
        ],
        [
         "High",
         "556"
        ],
        [
         "Low",
         "287"
        ]
       ],
       "shape": {
        "columns": 1,
        "rows": 4
       }
      },
      "text/plain": [
       "Income Band\n",
       "Very High    1417\n",
       "Medium        740\n",
       "High          556\n",
       "Low           287\n",
       "Name: count, dtype: int64"
      ]
     },
     "metadata": {},
     "output_type": "display_data"
    },
    {
     "name": "stdout",
     "output_type": "stream",
     "text": [
      "Properties Owned Distribution \n"
     ]
    },
    {
     "data": {
      "application/vnd.microsoft.datawrangler.viewer.v0+json": {
       "columns": [
        {
         "name": "Properties Owned",
         "rawType": "int64",
         "type": "integer"
        },
        {
         "name": "count",
         "rawType": "int64",
         "type": "integer"
        }
       ],
       "ref": "d4109fc8-2329-4fff-b903-f5235a374d20",
       "rows": [
        [
         "2",
         "777"
        ],
        [
         "1",
         "776"
        ],
        [
         "3",
         "742"
        ],
        [
         "0",
         "705"
        ]
       ],
       "shape": {
        "columns": 1,
        "rows": 4
       }
      },
      "text/plain": [
       "Properties Owned\n",
       "2    777\n",
       "1    776\n",
       "3    742\n",
       "0    705\n",
       "Name: count, dtype: int64"
      ]
     },
     "metadata": {},
     "output_type": "display_data"
    },
    {
     "name": "stdout",
     "output_type": "stream",
     "text": [
      "Risk Weighting Distribution \n"
     ]
    },
    {
     "data": {
      "application/vnd.microsoft.datawrangler.viewer.v0+json": {
       "columns": [
        {
         "name": "Risk Weighting",
         "rawType": "int64",
         "type": "integer"
        },
        {
         "name": "count",
         "rawType": "int64",
         "type": "integer"
        }
       ],
       "ref": "a80dfa6b-c676-4411-bc9c-8f31abb13f26",
       "rows": [
        [
         "2",
         "1222"
        ],
        [
         "1",
         "836"
        ],
        [
         "3",
         "460"
        ],
        [
         "4",
         "322"
        ],
        [
         "5",
         "160"
        ]
       ],
       "shape": {
        "columns": 1,
        "rows": 5
       }
      },
      "text/plain": [
       "Risk Weighting\n",
       "2    1222\n",
       "1     836\n",
       "3     460\n",
       "4     322\n",
       "5     160\n",
       "Name: count, dtype: int64"
      ]
     },
     "metadata": {},
     "output_type": "display_data"
    },
    {
     "name": "stdout",
     "output_type": "stream",
     "text": [
      "BRId Distribution \n"
     ]
    },
    {
     "data": {
      "application/vnd.microsoft.datawrangler.viewer.v0+json": {
       "columns": [
        {
         "name": "BRId",
         "rawType": "int64",
         "type": "integer"
        },
        {
         "name": "count",
         "rawType": "int64",
         "type": "integer"
        }
       ],
       "ref": "daf6f926-064c-4e0a-b7de-cf8e5a41de5f",
       "rows": [
        [
         "3",
         "1352"
        ],
        [
         "1",
         "660"
        ],
        [
         "2",
         "495"
        ],
        [
         "4",
         "493"
        ]
       ],
       "shape": {
        "columns": 1,
        "rows": 4
       }
      },
      "text/plain": [
       "BRId\n",
       "3    1352\n",
       "1     660\n",
       "2     495\n",
       "4     493\n",
       "Name: count, dtype: int64"
      ]
     },
     "metadata": {},
     "output_type": "display_data"
    },
    {
     "name": "stdout",
     "output_type": "stream",
     "text": [
      "GenderId Distribution \n"
     ]
    },
    {
     "data": {
      "application/vnd.microsoft.datawrangler.viewer.v0+json": {
       "columns": [
        {
         "name": "GenderId",
         "rawType": "int64",
         "type": "integer"
        },
        {
         "name": "count",
         "rawType": "int64",
         "type": "integer"
        }
       ],
       "ref": "d9b584b2-393a-4213-af4b-5fcf3bb65d21",
       "rows": [
        [
         "2",
         "1512"
        ],
        [
         "1",
         "1488"
        ]
       ],
       "shape": {
        "columns": 1,
        "rows": 2
       }
      },
      "text/plain": [
       "GenderId\n",
       "2    1512\n",
       "1    1488\n",
       "Name: count, dtype: int64"
      ]
     },
     "metadata": {},
     "output_type": "display_data"
    },
    {
     "name": "stdout",
     "output_type": "stream",
     "text": [
      "IAId Distribution \n"
     ]
    },
    {
     "data": {
      "application/vnd.microsoft.datawrangler.viewer.v0+json": {
       "columns": [
        {
         "name": "IAId",
         "rawType": "int64",
         "type": "integer"
        },
        {
         "name": "count",
         "rawType": "int64",
         "type": "integer"
        }
       ],
       "ref": "b26d4f8b-3ed1-4a4f-a346-344f8ed80cb6",
       "rows": [
        [
         "1",
         "177"
        ],
        [
         "2",
         "177"
        ],
        [
         "3",
         "177"
        ],
        [
         "4",
         "177"
        ],
        [
         "8",
         "177"
        ],
        [
         "9",
         "176"
        ],
        [
         "13",
         "176"
        ],
        [
         "12",
         "176"
        ],
        [
         "10",
         "176"
        ],
        [
         "11",
         "176"
        ],
        [
         "14",
         "176"
        ],
        [
         "15",
         "176"
        ],
        [
         "6",
         "89"
        ],
        [
         "5",
         "89"
        ],
        [
         "7",
         "89"
        ],
        [
         "16",
         "88"
        ],
        [
         "17",
         "88"
        ],
        [
         "18",
         "88"
        ],
        [
         "19",
         "88"
        ],
        [
         "20",
         "88"
        ],
        [
         "21",
         "88"
        ],
        [
         "22",
         "88"
        ]
       ],
       "shape": {
        "columns": 1,
        "rows": 22
       }
      },
      "text/plain": [
       "IAId\n",
       "1     177\n",
       "2     177\n",
       "3     177\n",
       "4     177\n",
       "8     177\n",
       "9     176\n",
       "13    176\n",
       "12    176\n",
       "10    176\n",
       "11    176\n",
       "14    176\n",
       "15    176\n",
       "6      89\n",
       "5      89\n",
       "7      89\n",
       "16     88\n",
       "17     88\n",
       "18     88\n",
       "19     88\n",
       "20     88\n",
       "21     88\n",
       "22     88\n",
       "Name: count, dtype: int64"
      ]
     },
     "metadata": {},
     "output_type": "display_data"
    }
   ],
   "source": [
    "for col in cat_cols:\n",
    "    print(f\"{col} Distribution \")\n",
    "    display(df[col].value_counts())\n"
   ]
  },
  {
   "cell_type": "code",
   "execution_count": null,
   "id": "3634d78b",
   "metadata": {},
   "outputs": [],
   "source": []
  },
  {
   "cell_type": "code",
   "execution_count": null,
   "id": "f242bb7c",
   "metadata": {
    "vscode": {
     "languageId": "r"
    }
   },
   "outputs": [],
   "source": [
    "# for col in cat_cols:\n",
    "#     plt.figure(figsize=(10, 5))\n",
    "#     df[col].value_counts().plot(kind=\"bar\", title=f\"{col} Distribution\")\n"
   ]
  },
  {
   "cell_type": "code",
   "execution_count": null,
   "id": "525eb70c",
   "metadata": {},
   "outputs": [],
   "source": [
    "import numpy as np\n"
   ]
  },
  {
   "cell_type": "markdown",
   "id": "dd672d49",
   "metadata": {},
   "source": []
  }
 ],
 "metadata": {
  "kernelspec": {
   "display_name": "venv",
   "language": "python",
   "name": "python3"
  },
  "language_info": {
   "codemirror_mode": {
    "name": "ipython",
    "version": 3
   },
   "file_extension": ".py",
   "mimetype": "text/x-python",
   "name": "python",
   "nbconvert_exporter": "python",
   "pygments_lexer": "ipython3",
   "version": "3.10.0"
  }
 },
 "nbformat": 4,
 "nbformat_minor": 5
}
